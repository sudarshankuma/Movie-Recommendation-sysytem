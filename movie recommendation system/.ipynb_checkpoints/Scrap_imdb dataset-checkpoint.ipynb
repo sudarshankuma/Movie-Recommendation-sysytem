{
 "cells": [
  {
   "cell_type": "code",
   "execution_count": 1,
   "id": "62a7bdf9",
   "metadata": {},
   "outputs": [],
   "source": [
    "from bs4 import BeautifulSoup\n",
    "import pandas as pd\n",
    "import requests"
   ]
  },
  {
   "cell_type": "code",
   "execution_count": 2,
   "id": "e1b24315",
   "metadata": {},
   "outputs": [
    {
     "data": {
      "text/plain": [
       "['action',\n",
       " 'drama',\n",
       " 'thriller',\n",
       " 'crime',\n",
       " 'adventure',\n",
       " 'comedy',\n",
       " 'sci-fi',\n",
       " 'romance',\n",
       " 'fantasy',\n",
       " 'horror',\n",
       " 'war',\n",
       " 'mystery',\n",
       " 'history',\n",
       " 'animation',\n",
       " 'western',\n",
       " 'family',\n",
       " 'sport',\n",
       " 'biography',\n",
       " 'musical',\n",
       " 'music',\n",
       " 'film-noir',\n",
       " 'reality-tv',\n",
       " 'game-show',\n",
       " 'news',\n",
       " 'adult',\n",
       " 'talk-show']"
      ]
     },
     "execution_count": 2,
     "metadata": {},
     "output_type": "execute_result"
    }
   ],
   "source": [
    "genres = ['Action', 'Drama', 'Thriller', 'Crime', 'Adventure', 'Comedy', 'Sci-Fi', 'Romance', 'Fantasy', 'Horror', 'War', 'Mystery', 'History', 'Animation', 'Western', 'Family', 'Sport', 'Biography', 'Musical', 'Music', 'Film-Noir', 'Reality-TV', 'Game-Show', 'News', 'Adult', 'Talk-Show']\n",
    "lowercase_genres = [g.lower() for g in genres]\n",
    "lowercase_genres"
   ]
  },
  {
   "cell_type": "code",
   "execution_count": null,
   "id": "439a1e60",
   "metadata": {},
   "outputs": [],
   "source": []
  },
  {
   "cell_type": "code",
   "execution_count": null,
   "id": "809c8cff",
   "metadata": {},
   "outputs": [],
   "source": []
  },
  {
   "cell_type": "code",
   "execution_count": 3,
   "id": "7cea2a68",
   "metadata": {},
   "outputs": [
    {
     "ename": "ModuleNotFoundError",
     "evalue": "No module named 'tqdm'",
     "output_type": "error",
     "traceback": [
      "\u001b[1;31m---------------------------------------------------------------------------\u001b[0m",
      "\u001b[1;31mModuleNotFoundError\u001b[0m                       Traceback (most recent call last)",
      "Cell \u001b[1;32mIn[3], line 1\u001b[0m\n\u001b[1;32m----> 1\u001b[0m \u001b[38;5;28;01mfrom\u001b[39;00m \u001b[38;5;21;01mtqdm\u001b[39;00m \u001b[38;5;28;01mimport\u001b[39;00m tqdm\n\u001b[0;32m      3\u001b[0m data \u001b[38;5;241m=\u001b[39m {}\n\u001b[0;32m      5\u001b[0m \u001b[38;5;28;01mfor\u001b[39;00m genre \u001b[38;5;129;01min\u001b[39;00m tqdm(lowercase_genres):\n",
      "\u001b[1;31mModuleNotFoundError\u001b[0m: No module named 'tqdm'"
     ]
    }
   ],
   "source": [
    "from tqdm import tqdm\n",
    "\n",
    "data = {}\n",
    "\n",
    "for genre in tqdm(lowercase_genres):\n",
    "    for num in range(1,1000,50):\n",
    "        url = \"https://www.imdb.com/search/title/?genres=\"+genre+\"&start=\"+str(num)+\"&ref_=adv_nxt\"\n",
    "#         print(url)\n",
    "\n",
    "        html = requests.get(url)\n",
    "#         print('Response:', html)\n",
    "        soup = BeautifulSoup(html.text, 'html.parser')\n",
    "        movie_div = soup.find_all('div', class_='lister-item mode-advanced')\n",
    "\n",
    "        for movie in movie_div:\n",
    "            if movie.find('h3', class_='lister-item-header').find('a') is not None:\n",
    "                title_element = movie.find('h3', class_='lister-item-header').find('a')\n",
    "                title = title_element.text.strip() if title_element else None\n",
    "            else:\n",
    "                title = None\n",
    "\n",
    "            if movie.find('img', class_='loadlate') is not None:\n",
    "                image_element = movie.find('img', class_='loadlate')\n",
    "                image_url = image_element['src'] if image_element else None\n",
    "            else:\n",
    "                image_url = None\n",
    "\n",
    "            if movie.find('span', class_='lister-item-year text-muted unbold') is not None:\n",
    "                year_element = movie.find('span', class_='lister-item-year text-muted unbold')\n",
    "                year = year_element.text.strip('()') if year_element else None\n",
    "            else:\n",
    "                year = None\n",
    "\n",
    "            if movie.find('span', class_='certificate') is not None:\n",
    "                certificate_element = movie.find('span', class_='certificate')\n",
    "                certificate = certificate_element.text if certificate_element else None\n",
    "            else:\n",
    "                certificate = None\n",
    "\n",
    "            if movie.find_all('p', class_='text-muted') is not None:\n",
    "                description_element = movie.find_all('p', class_='text-muted')\n",
    "                description = description_element[1].text.strip() if len(description_element) >= 2 else None\n",
    "            else:\n",
    "                description = None\n",
    "\n",
    "            if movie.find('div', class_='ratings-bar') is not None:\n",
    "                rating_element = movie.find('div', class_='ratings-bar').find('strong')\n",
    "                rating = rating_element.text if rating_element else None\n",
    "            else:\n",
    "                rating = None\n",
    "\n",
    "            if movie.find('p', class_='').find_all('a'):\n",
    "                director_element = movie.find('p', class_='').find_all('a')\n",
    "                director = director_element[0].text if director_element else None\n",
    "                stars = [star.text for star in director_element[1:]] if director_element else None\n",
    "            else: \n",
    "                director = None\n",
    "                stars = None\n",
    "\n",
    "            votes_element = movie.find('p', class_='sort-num_votes-visible')\n",
    "            if votes_element is not None and votes_element.find('span', attrs={'name': 'nv'}) is not None:\n",
    "                votes = votes_element.find('span', attrs={'name': 'nv'}).text\n",
    "            else:\n",
    "                votes = None\n",
    "\n",
    "            data[title] = {\n",
    "                'Title': title,\n",
    "                'Image_URL': image_url,\n",
    "                'Year': year,\n",
    "                'Genre': genre,\n",
    "                'Certificate': certificate,\n",
    "                'Description': description,\n",
    "                'Rating': rating,\n",
    "                'Director': director,\n",
    "                'Stars': stars,\n",
    "                'Votes': votes\n",
    "            }\n",
    "\n",
    "#             print('Title:', title)\n",
    "#             print('Year:', year)\n",
    "#             print('Image URL:', image_url)\n",
    "#             print('Certificate:', certificate)\n",
    "#             print('Description:', description)\n",
    "#             print('Rating:', rating)\n",
    "#             print('Director:', director)\n",
    "#             print('Stars:', stars)\n",
    "#             print('Votes:', votes)\n",
    "#             print('---')\n",
    "        \n",
    "    \n"
   ]
  },
  {
   "cell_type": "code",
   "execution_count": null,
   "id": "84acaafc",
   "metadata": {},
   "outputs": [],
   "source": [
    "data"
   ]
  },
  {
   "cell_type": "code",
   "execution_count": null,
   "id": "850040b0",
   "metadata": {},
   "outputs": [],
   "source": [
    "import pandas as pd\n",
    "\n",
    "df = pd.DataFrame.from_dict(data, orient='index')\n",
    "df = df[['Title', 'Image_URL', 'Year', 'Certificate', 'Description', 'Rating', 'Director', 'Stars', 'Votes']]\n",
    "df"
   ]
  },
  {
   "cell_type": "code",
   "execution_count": null,
   "id": "dff89b8c",
   "metadata": {},
   "outputs": [],
   "source": [
    "# Save DataFrame to Excel file\n",
    "df.to_excel('imdb_datasets.xlsx', index=False)"
   ]
  },
  {
   "cell_type": "code",
   "execution_count": null,
   "id": "7d55a3c7",
   "metadata": {},
   "outputs": [],
   "source": []
  }
 ],
 "metadata": {
  "kernelspec": {
   "display_name": "Python 3 (ipykernel)",
   "language": "python",
   "name": "python3"
  },
  "language_info": {
   "codemirror_mode": {
    "name": "ipython",
    "version": 3
   },
   "file_extension": ".py",
   "mimetype": "text/x-python",
   "name": "python",
   "nbconvert_exporter": "python",
   "pygments_lexer": "ipython3",
   "version": "3.10.6"
  }
 },
 "nbformat": 4,
 "nbformat_minor": 5
}
